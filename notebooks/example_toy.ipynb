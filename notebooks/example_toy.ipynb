{
 "cells": [
  {
   "cell_type": "markdown",
   "metadata": {},
   "source": [
    "### This notebook\n",
    "builds a graph-based embedding for a small number of random handwritten digits with multidimensional scaling."
   ]
  },
  {
   "cell_type": "markdown",
   "metadata": {},
   "source": [
    "Optional: run this before import to recompile c++ ops\n",
    "```\n",
    "!rm -r ../lib/cpp/temp/\n",
    "!rm -r ../lib/cpp/build/\n",
    "!rm -r ../lib/cpp/_bindings.so\n",
    "!rm -r ../lib/cpp/bindings.py\n",
    "!rm -r ../lib/cpp/lib_wrap.c\n",
    "```\n",
    "\n",
    "\n",
    "##### Get the dataset:"
   ]
  },
  {
   "cell_type": "code",
   "execution_count": null,
   "metadata": {},
   "outputs": [],
   "source": [
    "!rm -r ../lib/cpp/temp/\n",
    "!rm -r ../lib/cpp/build/\n",
    "!rm -r ../lib/cpp/_bindings.so\n",
    "!rm -r ../lib/cpp/bindings.py\n",
    "!rm -r ../lib/cpp/lib_wrap.c"
   ]
  },
  {
   "cell_type": "code",
   "execution_count": 1,
   "metadata": {
    "scrolled": true
   },
   "outputs": [],
   "source": [
    "%load_ext autoreload\n",
    "%autoreload 2\n",
    "import gc\n",
    "import pickle\n",
    "import sys\n",
    "sys.path.insert(0, \"..\")\n",
    "import time\n",
    "\n",
    "import h5py\n",
    "from IPython.display import clear_output\n",
    "import matplotlib.pyplot as plt\n",
    "%matplotlib inline\n",
    "import numpy as np\n",
    "import torch, torch.nn as nn\n",
    "import torch.nn.functional as F\n",
    "import torchvision\n",
    "from tqdm.notebook import tqdm\n",
    "\n",
    "torch.manual_seed(42)\n",
    "\n",
    "import lib # builds c++ binaries with swig\n",
    "from lib.utils.distance_helper import compute_original_pairwise_distance, compute_pca_pairwise_distance, mds_pairwise_distance\n",
    "from lib import data_loader as data_loader"
   ]
  },
  {
   "cell_type": "markdown",
   "metadata": {},
   "source": [
    "#### Choose one of the 3 cells below to run"
   ]
  },
  {
   "cell_type": "code",
   "execution_count": null,
   "metadata": {},
   "outputs": [],
   "source": [
    "dataset = 'mnist'\n",
    "batch_size = 64"
   ]
  },
  {
   "cell_type": "code",
   "execution_count": 2,
   "metadata": {},
   "outputs": [],
   "source": [
    "dataset = 'iris'\n",
    "batch_size = 256"
   ]
  },
  {
   "cell_type": "code",
   "execution_count": null,
   "metadata": {},
   "outputs": [],
   "source": [
    "dataset = 'wine'\n",
    "batch_size = 256"
   ]
  },
  {
   "cell_type": "markdown",
   "metadata": {},
   "source": [
    "#### Load dataset"
   ]
  },
  {
   "cell_type": "code",
   "execution_count": 3,
   "metadata": {},
   "outputs": [],
   "source": [
    "if dataset == 'mnist':\n",
    "    X, y = data_loader.get_mnist()\n",
    "elif dataset == 'iris':\n",
    "    X, y = data_loader.get_iris()\n",
    "elif dataset == 'wine':\n",
    "    X, y = data_loader.get_wine()\n",
    "else:\n",
    "    raise Exception(f\"Unspecified dataset: {dataset}\")"
   ]
  },
  {
   "cell_type": "markdown",
   "metadata": {},
   "source": [
    "#### Compute PCA and MDS compression MSE"
   ]
  },
  {
   "cell_type": "code",
   "execution_count": 4,
   "metadata": {},
   "outputs": [],
   "source": [
    "distances = compute_original_pairwise_distance(X, simple=True, num_samples=len(X))\n",
    "n_comp = 4 if dataset != 'iris' else 3 # IRIS dataset only has 4 attributes\n",
    "dist_pca = compute_pca_pairwise_distance(X, simple=True, num_samples=len(X), n_comp=n_comp)\n",
    "dist_mds = mds_pairwise_distance(X, n_comp=n_comp)"
   ]
  },
  {
   "cell_type": "markdown",
   "metadata": {},
   "source": [
    "##### Build initial graph\n",
    "\n",
    "We initialize prodige with a full graph initialized with distances between nodes"
   ]
  },
  {
   "cell_type": "code",
   "execution_count": 6,
   "metadata": {
    "scrolled": true
   },
   "outputs": [
    {
     "name": "stdout",
     "output_type": "stream",
     "text": [
      "Searching for nearest neighbors\n",
      "Adding knn edges\n",
      "Adding random edges\n",
      "Deduplicating edges\n",
      "Total edges: 7670, mean edges per vertex: 51.13333333333333, mean distance: 0.1727593527919499\n"
     ]
    }
   ],
   "source": [
    "emb = lib.make_graph_from_vectors(\n",
    "        X, knn_edges=64, random_edges=32, squared=False,\n",
    "        max_length=10, n_jobs=-1, soft=True, k_nearest=0, directed=False, verbose=True\n",
    ")\n",
    "\n",
    "loss_history, reg_history = [], []\n",
    "opt = None\n",
    "total_edges = emb.num_edges\n",
    "num_edges_req = len(X) * 2 * 1.1  # x 1.1 as buffer\n",
    "stage, last_updated = 0, 0\n",
    "\n",
    "def update_learning_rate(decrease_lr:bool = True):\n",
    "    t = len(loss_history)\n",
    "    global opt, stage, emb, batch_size\n",
    "    \n",
    "    if decrease_lr is False:\n",
    "        emb = emb.pruned(threshold=0.5)\n",
    "        opt = torch.optim.SparseAdam(emb.parameters(), lr=0.01)\n",
    "    else:\n",
    "        if stage == 0:\n",
    "            opt = torch.optim.SparseAdam(emb.parameters(), lr=0.1)\n",
    "            stage += 1\n",
    "\n",
    "        elif stage == 1: # and t >= 300:\n",
    "            emb = emb.pruned(threshold=0.5)\n",
    "            opt = torch.optim.SparseAdam(emb.parameters(), lr=0.05)\n",
    "            stage += 1\n",
    "\n",
    "        elif stage == 2: # and t >= 1000:\n",
    "            emb = emb.pruned(threshold=0.5)\n",
    "            opt = torch.optim.SparseAdam(emb.parameters(), lr=0.01)\n",
    "            stage += 1\n",
    "\n",
    "        elif stage == 3:\n",
    "            emb = emb.pruned(threshold=0.5)\n",
    "            opt = torch.optim.SparseAdam(emb.parameters(), lr=0.005)\n",
    "            stage += 1"
   ]
  },
  {
   "cell_type": "markdown",
   "metadata": {},
   "source": [
    "##### Training loop\n",
    "\n",
    "Here we minimize the MDS loss function\n",
    "$$L = 1/N \\sum_{i, j} (d_{orig}(x_i, x_j) - d_G(v_i, v_j))^2$$\n",
    "\n",
    "* $d_{orig}(x_i, x_j)$ is the original distance between two vectors in $X$\n",
    "* $d_G(v_i, v_j)$ is the learned graph distance between corresponding vertices in graph $G$"
   ]
  },
  {
   "cell_type": "code",
   "execution_count": 7,
   "metadata": {
    "scrolled": true
   },
   "outputs": [
    {
     "name": "stdout",
     "output_type": "stream",
     "text": [
      "Stage: 4 Last updated: 10267\n"
     ]
    },
    {
     "data": {
      "image/png": "[encoded data removed]",
      "text/plain": [
       "<Figure size 1080x288 with 3 Axes>"
      ]
     },
     "metadata": {
      "needs_background": "light"
     },
     "output_type": "display_data"
    },
    {
     "name": "stdout",
     "output_type": "stream",
     "text": [
      "GraphEmbedding(150 vertices, 584 edges total, 580 edges kept, 0.0068493 sparsity rate, default distance = 0.0)\n",
      "\n"
     ]
    }
   ],
   "source": [
    "update_learning_rate()\n",
    "for batch_i in tqdm(range(len(loss_history), 10000)):\n",
    "    ii = torch.randint(0, len(X), [batch_size])\n",
    "    jj = torch.randint(0, len(X), [batch_size])\n",
    "\n",
    "    pred = emb(ii, jj)\n",
    "    distances_ref = torch.as_tensor(distances[ii, jj], dtype=torch.float32)\n",
    "    \n",
    "    reconstruction_mse = F.mse_loss(pred['target_distances'], distances_ref)\n",
    "    regularizer = emb.compute_l0_prior_penalty(batch_size=4096)\n",
    "    lambd = min(1, len(loss_history) / 10000.) * (emb.num_edges / total_edges) * 10.0\n",
    "    loss = reconstruction_mse - pred['logp_target_paths'].mean() + lambd * regularizer\n",
    "    opt.zero_grad()\n",
    "    loss.backward()\n",
    "    opt.step()\n",
    "    loss_history.append(reconstruction_mse.item())\n",
    "    reg_history.append(regularizer.item())\n",
    "    \n",
    "    # early stopping       \n",
    "    edges_kept = np.sum(lib.check_numpy(emb.edge_adjacency_logits >= 0).astype('int64'))\n",
    "    if edges_kept <= num_edges_req:\n",
    "        print('Early stopping at epoch:', batch_i)\n",
    "        break\n",
    "\n",
    "    # dynamic updating of LR/pruning  \n",
    "    if len(reg_history) > 100 and batch_i > last_updated:\n",
    "        limit = round(reg_history[-30], 3)\n",
    "        if stage <= 3:\n",
    "            if all(round(i, 3) >= limit for i in reg_history[-30:]):\n",
    "                update_learning_rate()\n",
    "                last_updated = batch_i + 50\n",
    "        else:\n",
    "            if all(round(i, 3) >= limit for i in reg_history[-30:]):\n",
    "                update_learning_rate(decrease_lr=False)\n",
    "                last_updated = batch_i + 500\n",
    "\n",
    "    if len(loss_history) % 100 == 0:\n",
    "        clear_output(True)\n",
    "        plt.figure(figsize=[15, 4])\n",
    "        plt.subplot(1, 3, 1);\n",
    "        plt.title('reconstruction mse, mean = %.20f' % np.mean(loss_history[-100:])); plt.grid()\n",
    "        plt.plot(loss_history)\n",
    "\n",
    "        plt.subplot(1, 3, 2);\n",
    "        plt.title('regularizer, mean = %0.5f' % np.mean(reg_history[-100:])); plt.grid()\n",
    "        plt.plot(reg_history)\n",
    "\n",
    "        plt.subplot(1, 3, 3);\n",
    "        probs = torch.sigmoid(emb.edge_adjacency_logits).data.numpy().flatten()\n",
    "        nnz_rate = np.mean(probs > 0.5)\n",
    "        plt.title('P(edge), nonzero rate = %.5f' % nnz_rate); plt.grid();\n",
    "        plt.hist(probs)\n",
    "        plt.show()\n",
    "        print(emb)"
   ]
  },
  {
   "cell_type": "code",
   "execution_count": 9,
   "metadata": {
    "scrolled": true
   },
   "outputs": [
    {
     "data": {
      "text/plain": [
       "{'size_bytes': 5244.0,\n",
       " 'num_parameters': 1311,\n",
       " 'trainable_default': 1,\n",
       " 'num_vertices': 152,\n",
       " 'num_slices': 151,\n",
       " 'num_edges': 579,\n",
       " 'bits_per_int': 32,\n",
       " 'bits_per_float': 32,\n",
       " 'threshold': 0.5,\n",
       " 'self': GraphEmbedding(150 vertices, 584 edges total, 580 edges kept, 0.0068493 sparsity rate, default distance = 0.0)}"
      ]
     },
     "execution_count": 9,
     "metadata": {},
     "output_type": "execute_result"
    }
   ],
   "source": [
    "dist_prodige = emb.compute_pairwise_distances()\n",
    "emb.report_model_size()"
   ]
  },
  {
   "cell_type": "code",
   "execution_count": 11,
   "metadata": {},
   "outputs": [
    {
     "name": "stdout",
     "output_type": "stream",
     "text": [
      "PCA:\t 0.00000\n",
      "MDS:\t 0.00004\n",
      "PRODIGE: 0.00001\n"
     ]
    }
   ],
   "source": [
    "print(\"PCA:\\t %.5f\" % np.mean(np.square(distances - dist_pca)))\n",
    "print(\"MDS:\\t %.5f\" % np.mean(np.square(distances - dist_mds)))\n",
    "print(\"PRODIGE: %.5f\" % np.mean(np.square(distances - dist_prodige)))"
   ]
  },
  {
   "cell_type": "markdown",
   "metadata": {},
   "source": [
    "#### Visualize PRODIGE graph as TNSE graph"
   ]
  },
  {
   "cell_type": "code",
   "execution_count": null,
   "metadata": {},
   "outputs": [],
   "source": [
    "from bokeh import io\n",
    "from bokeh.plotting import figure, output_file, save\n",
    "output_file('mnist_graph.html')\n",
    "emb.default_distance.data[...] = 100\n",
    "p = lib.visualize_embeddings(emb, vertex_labels=y, edge_probability_threshold=0.5, deterministic=True,\n",
    "                         vertex_alpha=0.8, cmap=lambda x: plt.get_cmap('rainbow')(x))\n",
    "save(p, 'mnist_graph.html')"
   ]
  },
  {
   "cell_type": "code",
   "execution_count": null,
   "metadata": {},
   "outputs": [],
   "source": [
    "from IPython.display import HTML\n",
    "HTML(filename=\"mnist_graph.html\")\n",
    "# re-run several times to get different tsne optima"
   ]
  },
  {
   "cell_type": "markdown",
   "metadata": {
    "scrolled": true
   },
   "source": [
    "```\n",
    "\n",
    "```\n",
    "\n",
    "```\n",
    "\n",
    "```\n",
    "\n",
    "```\n",
    "\n",
    "```\n",
    "\n",
    "```\n",
    "\n",
    "```\n",
    "\n",
    "```\n",
    "\n",
    "```\n"
   ]
  }
 ],
 "metadata": {
  "kernelspec": {
   "display_name": "Python 3",
   "language": "python",
   "name": "python3"
  },
  "language_info": {
   "codemirror_mode": {
    "name": "ipython",
    "version": 3
   },
   "file_extension": ".py",
   "mimetype": "text/x-python",
   "name": "python",
   "nbconvert_exporter": "python",
   "pygments_lexer": "ipython3",
   "version": "3.6.9"
  }
 },
 "nbformat": 4,
 "nbformat_minor": 2
}
